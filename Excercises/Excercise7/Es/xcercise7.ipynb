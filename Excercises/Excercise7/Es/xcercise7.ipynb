{
 "cells": [
  {
   "cell_type": "code",
   "execution_count": 4,
   "metadata": {},
   "outputs": [
    {
     "ename": "FileNotFoundError",
     "evalue": "[Errno 2] No such file or directory: 'airplane.ply'",
     "output_type": "error",
     "traceback": [
      "\u001b[1;31m---------------------------------------------------------------------------\u001b[0m",
      "\u001b[1;31mFileNotFoundError\u001b[0m                         Traceback (most recent call last)",
      "\u001b[1;32mc:\\Users\\Devindi\\OneDrive - University of Moratuwa\\Image-processing-Excercises\\Excercises\\Excercise7\\Es\\xcercise7.ipynb Cell 1'\u001b[0m in \u001b[0;36m<module>\u001b[1;34m\u001b[0m\n\u001b[0;32m      <a href='vscode-notebook-cell:/c%3A/Users/Devindi/OneDrive%20-%20University%20of%20Moratuwa/Image-processing-Excercises/Excercises/Excercise7/Es/xcercise7.ipynb#ch0000000?line=1'>2</a>\u001b[0m \u001b[39mfrom\u001b[39;00m \u001b[39mplyfile\u001b[39;00m \u001b[39mimport\u001b[39;00m PlyData, PlyElement\n\u001b[0;32m      <a href='vscode-notebook-cell:/c%3A/Users/Devindi/OneDrive%20-%20University%20of%20Moratuwa/Image-processing-Excercises/Excercises/Excercise7/Es/xcercise7.ipynb#ch0000000?line=2'>3</a>\u001b[0m \u001b[39mimport\u001b[39;00m \u001b[39mmatplotlib\u001b[39;00m\u001b[39m.\u001b[39;00m\u001b[39mpyplot\u001b[39;00m \u001b[39mas\u001b[39;00m \u001b[39mplt\u001b[39;00m\n\u001b[1;32m----> <a href='vscode-notebook-cell:/c%3A/Users/Devindi/OneDrive%20-%20University%20of%20Moratuwa/Image-processing-Excercises/Excercises/Excercise7/Es/xcercise7.ipynb#ch0000000?line=4'>5</a>\u001b[0m pcd\u001b[39m=\u001b[39mPlyData\u001b[39m.\u001b[39;49mread(\u001b[39mr\u001b[39;49m\u001b[39m'\u001b[39;49m\u001b[39mairplane.ply\u001b[39;49m\u001b[39m'\u001b[39;49m)\n\u001b[0;32m      <a href='vscode-notebook-cell:/c%3A/Users/Devindi/OneDrive%20-%20University%20of%20Moratuwa/Image-processing-Excercises/Excercises/Excercise7/Es/xcercise7.ipynb#ch0000000?line=5'>6</a>\u001b[0m \u001b[39massert\u001b[39;00m pcd \u001b[39mis\u001b[39;00m \u001b[39mnot\u001b[39;00m \u001b[39mNone\u001b[39;00m\n\u001b[0;32m      <a href='vscode-notebook-cell:/c%3A/Users/Devindi/OneDrive%20-%20University%20of%20Moratuwa/Image-processing-Excercises/Excercises/Excercise7/Es/xcercise7.ipynb#ch0000000?line=7'>8</a>\u001b[0m points \u001b[39m=\u001b[39m np\u001b[39m.\u001b[39mconcatenate((pcd[\u001b[39m'\u001b[39m\u001b[39mvirtex\u001b[39m\u001b[39m'\u001b[39m][\u001b[39m'\u001b[39m\u001b[39mx\u001b[39m\u001b[39m'\u001b[39m]\u001b[39m.\u001b[39mreshape(\u001b[39m1\u001b[39m,\u001b[39m-\u001b[39m\u001b[39m1\u001b[39m),pcd[\u001b[39m'\u001b[39m\u001b[39mvirtex\u001b[39m\u001b[39m'\u001b[39m][\u001b[39m'\u001b[39m\u001b[39mz\u001b[39m\u001b[39m'\u001b[39m]\u001b[39m.\u001b[39mreshape(\u001b[39m1\u001b[39m,\u001b[39m-\u001b[39m\u001b[39m1\u001b[39m)),axis\u001b[39m=\u001b[39m\u001b[39m0\u001b[39m)\n",
      "File \u001b[1;32m~\\AppData\\Local\\Programs\\Python\\Python39\\lib\\site-packages\\plyfile.py:393\u001b[0m, in \u001b[0;36mPlyData.read\u001b[1;34m(stream, mmap)\u001b[0m\n\u001b[0;32m    <a href='file:///c%3A/Users/Devindi/AppData/Local/Programs/Python/Python39/lib/site-packages/plyfile.py?line=383'>384</a>\u001b[0m \u001b[39m@staticmethod\u001b[39m\n\u001b[0;32m    <a href='file:///c%3A/Users/Devindi/AppData/Local/Programs/Python/Python39/lib/site-packages/plyfile.py?line=384'>385</a>\u001b[0m \u001b[39mdef\u001b[39;00m \u001b[39mread\u001b[39m(stream, mmap\u001b[39m=\u001b[39m\u001b[39mTrue\u001b[39;00m):\n\u001b[0;32m    <a href='file:///c%3A/Users/Devindi/AppData/Local/Programs/Python/Python39/lib/site-packages/plyfile.py?line=385'>386</a>\u001b[0m     \u001b[39m'''\u001b[39;00m\n\u001b[0;32m    <a href='file:///c%3A/Users/Devindi/AppData/Local/Programs/Python/Python39/lib/site-packages/plyfile.py?line=386'>387</a>\u001b[0m \u001b[39m    Read PLY data from a readable file-like object or filename.\u001b[39;00m\n\u001b[0;32m    <a href='file:///c%3A/Users/Devindi/AppData/Local/Programs/Python/Python39/lib/site-packages/plyfile.py?line=387'>388</a>\u001b[0m \n\u001b[1;32m   (...)\u001b[0m\n\u001b[0;32m    <a href='file:///c%3A/Users/Devindi/AppData/Local/Programs/Python/Python39/lib/site-packages/plyfile.py?line=390'>391</a>\u001b[0m \u001b[39m        Using False will prevent memory mapping.\u001b[39;00m\n\u001b[0;32m    <a href='file:///c%3A/Users/Devindi/AppData/Local/Programs/Python/Python39/lib/site-packages/plyfile.py?line=391'>392</a>\u001b[0m \u001b[39m    '''\u001b[39;00m\n\u001b[1;32m--> <a href='file:///c%3A/Users/Devindi/AppData/Local/Programs/Python/Python39/lib/site-packages/plyfile.py?line=392'>393</a>\u001b[0m     (must_close, stream) \u001b[39m=\u001b[39m _open_stream(stream, \u001b[39m'\u001b[39;49m\u001b[39mread\u001b[39;49m\u001b[39m'\u001b[39;49m)\n\u001b[0;32m    <a href='file:///c%3A/Users/Devindi/AppData/Local/Programs/Python/Python39/lib/site-packages/plyfile.py?line=393'>394</a>\u001b[0m     \u001b[39mtry\u001b[39;00m:\n\u001b[0;32m    <a href='file:///c%3A/Users/Devindi/AppData/Local/Programs/Python/Python39/lib/site-packages/plyfile.py?line=394'>395</a>\u001b[0m         data \u001b[39m=\u001b[39m PlyData\u001b[39m.\u001b[39m_parse_header(stream)\n",
      "File \u001b[1;32m~\\AppData\\Local\\Programs\\Python\\Python39\\lib\\site-packages\\plyfile.py:472\u001b[0m, in \u001b[0;36m_open_stream\u001b[1;34m(stream, read_or_write)\u001b[0m\n\u001b[0;32m    <a href='file:///c%3A/Users/Devindi/AppData/Local/Programs/Python/Python39/lib/site-packages/plyfile.py?line=469'>470</a>\u001b[0m     \u001b[39mreturn\u001b[39;00m (\u001b[39mFalse\u001b[39;00m, stream)\n\u001b[0;32m    <a href='file:///c%3A/Users/Devindi/AppData/Local/Programs/Python/Python39/lib/site-packages/plyfile.py?line=470'>471</a>\u001b[0m \u001b[39mtry\u001b[39;00m:\n\u001b[1;32m--> <a href='file:///c%3A/Users/Devindi/AppData/Local/Programs/Python/Python39/lib/site-packages/plyfile.py?line=471'>472</a>\u001b[0m     \u001b[39mreturn\u001b[39;00m (\u001b[39mTrue\u001b[39;00m, \u001b[39mopen\u001b[39;49m(stream, read_or_write[\u001b[39m0\u001b[39;49m] \u001b[39m+\u001b[39;49m \u001b[39m'\u001b[39;49m\u001b[39mb\u001b[39;49m\u001b[39m'\u001b[39;49m))\n\u001b[0;32m    <a href='file:///c%3A/Users/Devindi/AppData/Local/Programs/Python/Python39/lib/site-packages/plyfile.py?line=472'>473</a>\u001b[0m \u001b[39mexcept\u001b[39;00m \u001b[39mTypeError\u001b[39;00m:\n\u001b[0;32m    <a href='file:///c%3A/Users/Devindi/AppData/Local/Programs/Python/Python39/lib/site-packages/plyfile.py?line=473'>474</a>\u001b[0m     \u001b[39mraise\u001b[39;00m \u001b[39mRuntimeError\u001b[39;00m(\u001b[39m\"\u001b[39m\u001b[39mexpected open file or filename\u001b[39m\u001b[39m\"\u001b[39m)\n",
      "\u001b[1;31mFileNotFoundError\u001b[0m: [Errno 2] No such file or directory: 'airplane.ply'"
     ]
    }
   ],
   "source": [
    "import numpy as np\n",
    "from plyfile import PlyData, PlyElement\n",
    "import matplotlib.pyplot as plt\n",
    "\n",
    "pcd=PlyData.read(r'airplane.ply')\n",
    "assert pcd is not None\n",
    "\n",
    "points = np.concatenate((pcd['virtex']['x'].reshape(1,-1),pcd['virtex']['z'].reshape(1,-1)),axis=0)\n",
    "points = points-np.mean(points,axis=1).reshape(3,1)"
   ]
  },
  {
   "cell_type": "code",
   "execution_count": null,
   "metadata": {},
   "outputs": [],
   "source": [
    "fig=plt.figure(figsize=(12,12))\n",
    "ax=fig.add_subplot(111,projection = '3d')\n",
    "ax.scatter(points[0,:],points[1,:],points[2,:])\n",
    "ax.set_xlabel('x')\n",
    "ax.set_ylabel('y')\n",
    "ax.set_zlabel('z')"
   ]
  },
  {
   "cell_type": "code",
   "execution_count": null,
   "metadata": {},
   "outputs": [],
   "source": [
    "ones = np.ones((1,points.shape[1]))\n",
    "points = np.concatenate((points,ones),axis=0)\n",
    "\n",
    "R= np.array([[1,0,0],[0,1,0],[0,0,1]])\n"
   ]
  }
 ],
 "metadata": {
  "interpreter": {
   "hash": "df4ac2cd1edcb0cc1c3306dbc804b9e9bdf68c1e63450ebfc74d7106bfd7d1f0"
  },
  "kernelspec": {
   "display_name": "Python 3.9.7 64-bit",
   "language": "python",
   "name": "python3"
  },
  "language_info": {
   "codemirror_mode": {
    "name": "ipython",
    "version": 3
   },
   "file_extension": ".py",
   "mimetype": "text/x-python",
   "name": "python",
   "nbconvert_exporter": "python",
   "pygments_lexer": "ipython3",
   "version": "3.9.7"
  },
  "orig_nbformat": 4
 },
 "nbformat": 4,
 "nbformat_minor": 2
}
