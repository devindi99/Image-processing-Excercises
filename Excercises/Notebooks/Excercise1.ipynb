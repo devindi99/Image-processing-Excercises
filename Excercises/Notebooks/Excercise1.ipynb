{
 "cells": [
  {
   "cell_type": "code",
   "execution_count": 4,
   "metadata": {},
   "outputs": [
    {
     "name": "stdout",
     "output_type": "stream",
     "text": [
      "1 : 1\n",
      "2 : 4\n",
      "3 : 9\n",
      "4 : 16\n",
      "5 : 25\n"
     ]
    }
   ],
   "source": [
    "for i in range(1,6):\n",
    "  print(i, \":\", i**2)"
   ]
  },
  {
   "cell_type": "code",
   "execution_count": 5,
   "metadata": {},
   "outputs": [
    {
     "name": "stdout",
     "output_type": "stream",
     "text": [
      "1 : 1\n",
      "4 : 16\n"
     ]
    }
   ],
   "source": [
    "import sympy\n",
    "for i in range(1,6):\n",
    "  if not sympy.isprime(i):\n",
    "    print(i, \":\", i**2)"
   ]
  },
  {
   "cell_type": "code",
   "execution_count": 6,
   "metadata": {},
   "outputs": [
    {
     "name": "stdout",
     "output_type": "stream",
     "text": [
      "1 : 1\n",
      "2 : 4\n",
      "3 : 9\n",
      "4 : 16\n",
      "5 : 25\n"
     ]
    }
   ],
   "source": [
    "squares = [i**2 for i in range(1,6)]\n",
    "for i, g in enumerate(squares):\n",
    "  print (i+1, \":\", g)"
   ]
  },
  {
   "cell_type": "code",
   "execution_count": 7,
   "metadata": {},
   "outputs": [
    {
     "name": "stdout",
     "output_type": "stream",
     "text": [
      "1 : 1\n",
      "4 : 16\n"
     ]
    }
   ],
   "source": [
    "squares = [i**2 for i in range(1,6)]\n",
    "for i, g in enumerate(squares):\n",
    "  if not sympy.isprime(i+1):\n",
    "    print (i+1, \":\", g)"
   ]
  },
  {
   "cell_type": "code",
   "execution_count": 8,
   "metadata": {},
   "outputs": [
    {
     "name": "stdout",
     "output_type": "stream",
     "text": [
      "[[ 9 12 15  9]\n",
      " [25 32 39 19]\n",
      " [41 52 63 29]]\n"
     ]
    }
   ],
   "source": [
    "import numpy as np\n",
    "a= np.array ( [[1, 2],[3, 4],[5,6]])\n",
    "b= np.array ( [[7, 8, 9, 1],[1,2,3,4]])\n",
    "print(np.matmul(a,b))"
   ]
  },
  {
   "cell_type": "code",
   "execution_count": 9,
   "metadata": {},
   "outputs": [
    {
     "name": "stdout",
     "output_type": "stream",
     "text": [
      "[[ 3  4]\n",
      " [15 16]\n",
      " [15  6]]\n"
     ]
    }
   ],
   "source": [
    "c= np.array ( [[3, 2],[5, 4],[3,1]])\n",
    "print(np.multiply(a,c))"
   ]
  },
  {
   "cell_type": "code",
   "execution_count": 10,
   "metadata": {},
   "outputs": [
    {
     "name": "stdout",
     "output_type": "stream",
     "text": [
      "[[ 8  7  1 10 10  5  5]\n",
      " [ 1  2 10  7  2  5  0]\n",
      " [ 8  6  1  3  1  5  6]\n",
      " [10  6  9  8  8  5  9]\n",
      " [ 9  1  6  2  4  0  6]]\n"
     ]
    }
   ],
   "source": [
    "d=np.random.randint(11, size=(5, 7))\n",
    "print(d)"
   ]
  },
  {
   "cell_type": "code",
   "execution_count": 11,
   "metadata": {},
   "outputs": [
    {
     "name": "stdout",
     "output_type": "stream",
     "text": [
      "[[ 1  2]\n",
      " [ 8  6]\n",
      " [10  6]]\n"
     ]
    }
   ],
   "source": [
    "e=d[1:4, :2]\n",
    "print(e)"
   ]
  },
  {
   "cell_type": "code",
   "execution_count": 40,
   "metadata": {},
   "outputs": [
    {
     "name": "stdout",
     "output_type": "stream",
     "text": [
      "[[ 2  4  6]\n",
      " [ 5  7  9]\n",
      " [ 8 10 12]\n",
      " [11 13 15]]\n"
     ]
    }
   ],
   "source": [
    "x = np.array([[1,2,3], [4,5,6], [7,8,9], [10, 11, 12]])\n",
    "v = np.array([1, 2, 3])\n",
    "print(x+v)"
   ]
  },
  {
   "cell_type": "code",
   "execution_count": 41,
   "metadata": {},
   "outputs": [
    {
     "name": "stdout",
     "output_type": "stream",
     "text": [
      "[[ 3  6  9]\n",
      " [12 15 18]\n",
      " [21 24 27]\n",
      " [30 33 36]]\n"
     ]
    }
   ],
   "source": [
    "print(x*3)"
   ]
  },
  {
   "cell_type": "code",
   "execution_count": 42,
   "metadata": {},
   "outputs": [
    {
     "name": "stdout",
     "output_type": "stream",
     "text": [
      "[[ 4  5]\n",
      " [ 8 10]\n",
      " [12 15]]\n"
     ]
    }
   ],
   "source": [
    "v = np.array([1,2,3]) \n",
    "w = np.array([4,5])\n",
    "print(np.reshape(v, (3, 1)) * w)"
   ]
  },
  {
   "cell_type": "code",
   "execution_count": 13,
   "metadata": {},
   "outputs": [
    {
     "name": "stdout",
     "output_type": "stream",
     "text": [
      "[[2.03228328]\n",
      " [0.73018785]]\n"
     ]
    },
    {
     "data": {
      "image/png": "[encoded data removed]",
      "text/plain": [
       "<Figure size 432x288 with 1 Axes>"
      ]
     },
     "metadata": {
      "needs_background": "light"
     },
     "output_type": "display_data"
    }
   ],
   "source": [
    "import matplotlib.pyplot as plt\n",
    "from numpy import linalg\n",
    "m, c = 2 , -4\n",
    "N = 10\n",
    "x = np.linspace (0 , N-1, N).reshape (N, 1 )\n",
    "sigma = 10\n",
    "y = m*x + c + np . random . normal (0 , sigma , (N, 1 ) )\n",
    "plt.scatter(x,y)\n",
    "X= np.append(np.ones((N,1)), x, axis=1)\n",
    "w=linalg.inv(X.T@ X)@X.T @ y\n",
    "print (w)"
   ]
  },
  {
   "cell_type": "code",
   "execution_count": 49,
   "metadata": {},
   "outputs": [],
   "source": [
    "import cv2 as cv\n",
    "im=cv.imread(r'gal.png')\n",
    "\n",
    "blur=cv.GaussianBlur(im,(5,5),0)\n",
    "\n",
    "cv.namedWindow('Image',cv.WINDOW_AUTOSIZE)\n",
    "cv.imshow('Image',im)\n",
    "cv.waitKey(0)\n",
    "cv.imshow('Image',blur)\n",
    "cv.waitKey(0)\n",
    "cv.destroyAllWindows()"
   ]
  },
  {
   "cell_type": "code",
   "execution_count": 48,
   "metadata": {},
   "outputs": [],
   "source": [
    "median = cv.medianBlur(im,5)\n",
    "im=cv.imread(r'gal_sandp.png')\n",
    "cv.namedWindow('Image',cv.WINDOW_AUTOSIZE)\n",
    "cv.imshow('Image',im)\n",
    "cv.waitKey(0)\n",
    "cv.imshow('Image',median)\n",
    "cv.waitKey(0)\n",
    "cv.destroyAllWindows()"
   ]
  },
  {
   "cell_type": "code",
   "execution_count": 16,
   "metadata": {},
   "outputs": [
    {
     "data": {
      "image/png": "[encoded data removed]",
      "text/plain": [
       "<Figure size 432x288 with 1 Axes>"
      ]
     },
     "metadata": {
      "needs_background": "light"
     },
     "output_type": "display_data"
    },
    {
     "data": {
      "image/png": "[encoded data removed]",
      "text/plain": [
       "<Figure size 432x288 with 1 Axes>"
      ]
     },
     "metadata": {
      "needs_background": "light"
     },
     "output_type": "display_data"
    }
   ],
   "source": [
    "img = np.zeros((40,60), dtype=np.uint8)\n",
    "img[0:21, 30:61] = 125\n",
    "\n",
    "fig, ax = plt.subplots()\n",
    "ax.imshow(img)\n",
    "plt.show()\n",
    "img = np.zeros((40,60), dtype=np.uint8)\n",
    "img[0:21, 30:61] = 125\n",
    "\n",
    "fig, ax = plt.subplots()\n",
    "ax.imshow(img, cmap ='gray', vmin = 0, vmax = 255)\n",
    "plt.show()\n"
   ]
  },
  {
   "cell_type": "code",
   "execution_count": 17,
   "metadata": {},
   "outputs": [
    {
     "data": {
      "image/png": "[encoded data removed]",
      "text/plain": [
       "<Figure size 432x288 with 1 Axes>"
      ]
     },
     "metadata": {
      "needs_background": "light"
     },
     "output_type": "display_data"
    }
   ],
   "source": [
    "img = np.zeros((40,60,3), dtype=np.uint8)\n",
    "img[21:41, 0:31] =  [224, 33, 138]\n",
    "\n",
    "fig, ax = plt.subplots()\n",
    "ax.imshow(img)\n",
    "plt.show()\n"
   ]
  },
  {
   "cell_type": "code",
   "execution_count": 50,
   "metadata": {},
   "outputs": [],
   "source": [
    "img = cv.imread(r'tom_dark.jpg')\n",
    "\n",
    "\n",
    "value = 80\n",
    "hsv = cv.cvtColor(img, cv.COLOR_BGR2HSV)\n",
    "h, s, v = cv.split(hsv)\n",
    "lim = 255 - value\n",
    "v[v > lim] = 255\n",
    "v[v <= lim] += value\n",
    "final_hsv = cv.merge((h, s, v))\n",
    "img2 = cv.cvtColor(final_hsv, cv.COLOR_HSV2BGR)\n",
    "\n",
    "\n",
    "cv.namedWindow('Image', cv.WINDOW_AUTOSIZE)\n",
    "cv.imshow('Image', img)\n",
    "cv.waitKey(0)\n",
    "cv.imshow('Image', img2)\n",
    "cv.waitKey(0)\n",
    "cv.destroyAllWindows()"
   ]
  }
 ],
 "metadata": {
  "interpreter": {
   "hash": "df4ac2cd1edcb0cc1c3306dbc804b9e9bdf68c1e63450ebfc74d7106bfd7d1f0"
  },
  "kernelspec": {
   "display_name": "Python 3.9.7 64-bit",
   "name": "python3"
  },
  "language_info": {
   "codemirror_mode": {
    "name": "ipython",
    "version": 3
   },
   "file_extension": ".py",
   "mimetype": "text/x-python",
   "name": "python",
   "nbconvert_exporter": "python",
   "pygments_lexer": "ipython3",
   "version": "3.9.7"
  },
  "orig_nbformat": 4
 },
 "nbformat": 4,
 "nbformat_minor": 2
}
